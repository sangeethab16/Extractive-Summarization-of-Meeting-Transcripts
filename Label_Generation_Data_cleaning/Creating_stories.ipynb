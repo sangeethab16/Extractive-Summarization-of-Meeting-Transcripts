{
 "cells": [
  {
   "cell_type": "code",
   "execution_count": 2,
   "metadata": {},
   "outputs": [],
   "source": [
    "import nltk\n",
    "import pickle\n",
    "import re"
   ]
  },
  {
   "cell_type": "code",
   "execution_count": 5,
   "metadata": {},
   "outputs": [],
   "source": [
    "with open('final_data.pickle', 'rb') as filename:\n",
    "    corpus = pickle.load(filename)"
   ]
  },
  {
   "cell_type": "code",
   "execution_count": 9,
   "metadata": {},
   "outputs": [],
   "source": [
    "transcripts = []\n",
    "summaries = []\n",
    "labels = []\n",
    "for i in corpus:\n",
    "    transcripts.append(i['transcript'])\n",
    "    summaries.append(i['summary'])\n",
    "    labels.append(i['labels'])"
   ]
  },
  {
   "cell_type": "code",
   "execution_count": 6,
   "metadata": {},
   "outputs": [],
   "source": [
    "# transcript_sent_tokenized = []\n",
    "# summary_sent_tokenized = []\n",
    "# for t in transcripts:\n",
    "#     transcript_sent_tokenized.append(nltk.sent_tokenize(t))\n",
    "    \n",
    "# for s in summaries:\n",
    "#     summary_sent_tokenized.append(nltk.sent_tokenize(s)) "
   ]
  },
  {
   "cell_type": "code",
   "execution_count": 11,
   "metadata": {},
   "outputs": [],
   "source": [
    "for i in range(0,103):\n",
    "    outF = open(\"./raw_stories/%s.train.story\" % i, \"w\")\n",
    "    for each_sent in transcripts[i]:\n",
    "        outF.write(each_sent)\n",
    "        outF.write(\"\\n\\n\")\n",
    "    for each_line in summaries[i]:\n",
    "        outF.write(\"@highlight\\n\\n\")\n",
    "        outF.write(each_line)\n",
    "        outF.write(\"\\n\\n\")\n",
    "    outF.close()"
   ]
  },
  {
   "cell_type": "code",
   "execution_count": 12,
   "metadata": {},
   "outputs": [],
   "source": [
    "for i in range(103,120):\n",
    "    outF = open(\"./raw_stories/%s.valid.story\" % i, \"w\")\n",
    "    for each_sent in transcripts[i]:\n",
    "        outF.write(each_sent)\n",
    "        outF.write(\"\\n\\n\")\n",
    "    for each_line in summaries[i]:\n",
    "        outF.write(\"@highlight\\n\\n\")\n",
    "        outF.write(each_line)\n",
    "        outF.write(\"\\n\\n\")\n",
    "    outF.close()"
   ]
  },
  {
   "cell_type": "code",
   "execution_count": 13,
   "metadata": {},
   "outputs": [],
   "source": [
    "for i in range(120,137):\n",
    "    outF = open(\"./raw_stories/%s.test.story\" % i, \"w\")\n",
    "    for each_sent in transcripts[i]:\n",
    "        outF.write(each_sent)\n",
    "        outF.write(\"\\n\\n\")\n",
    "    for each_line in summaries[i]:\n",
    "        outF.write(\"@highlight\\n\\n\")\n",
    "        outF.write(each_line)\n",
    "        outF.write(\"\\n\\n\")\n",
    "    outF.close()"
   ]
  },
  {
   "cell_type": "code",
   "execution_count": null,
   "metadata": {},
   "outputs": [],
   "source": [
    "corpus_mapping = {}\n",
    "for f in glob.glob(pjoin(./raw_stories, '*.story')):\n",
    "    id = re.findall(\"(\\d+).*.story\",f)\n",
    "    if int(id[0]) in range(0,103):\n",
    "        train_files.append(f)\n",
    "    if int(id[0]) in range(103,120):\n",
    "        valid_files.append(f)\n",
    "    if int(id[0]) in range(120,137):\n",
    "        test_files.append(f)\n",
    "        "
   ]
  },
  {
   "cell_type": "code",
   "execution_count": 39,
   "metadata": {},
   "outputs": [
    {
     "data": {
      "text/plain": [
       "12"
      ]
     },
     "execution_count": 39,
     "metadata": {},
     "output_type": "execute_result"
    }
   ],
   "source": [
    "res = re.findall(\"(\\d+).*.story\",\"12.training.story\" )\n",
    "int(res[0])\n"
   ]
  },
  {
   "cell_type": "code",
   "execution_count": null,
   "metadata": {},
   "outputs": [],
   "source": [
    "for f in glob.glob(pjoin(./raw_stories, '*.story')):\n",
    "    type = re.findall(\"(\\d+).story\",f)"
   ]
  },
  {
   "cell_type": "code",
   "execution_count": 42,
   "metadata": {},
   "outputs": [
    {
     "data": {
      "text/plain": [
       "382"
      ]
     },
     "execution_count": 42,
     "metadata": {},
     "output_type": "execute_result"
    }
   ],
   "source": [
    "len(transcript_sent_tokenized[6])"
   ]
  },
  {
   "cell_type": "code",
   "execution_count": null,
   "metadata": {},
   "outputs": [],
   "source": []
  }
 ],
 "metadata": {
  "kernelspec": {
   "display_name": "Python 3",
   "language": "python",
   "name": "python3"
  },
  "language_info": {
   "codemirror_mode": {
    "name": "ipython",
    "version": 3
   },
   "file_extension": ".py",
   "mimetype": "text/x-python",
   "name": "python",
   "nbconvert_exporter": "python",
   "pygments_lexer": "ipython3",
   "version": "3.7.3"
  }
 },
 "nbformat": 4,
 "nbformat_minor": 2
}
